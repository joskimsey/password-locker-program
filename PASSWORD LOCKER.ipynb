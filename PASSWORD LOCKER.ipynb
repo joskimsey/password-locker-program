{
 "cells": [
  {
   "cell_type": "code",
   "execution_count": 7,
   "metadata": {},
   "outputs": [
    {
     "name": "stdout",
     "output_type": "stream",
     "text": [
      "There is no account namedC:\\Users\\Ronny\\AppData\\Roaming\\jupyter\\runtime\\kernel-af4ccac0-f782-47cb-b874-8fe499041016.json\n"
     ]
    }
   ],
   "source": [
    "#!python3\n",
    "#pw.py-An insecure password locker program\n",
    "\n",
    "PASSWORDS = {\"instagram\":\"jojojoputa\",\n",
    "            \"email\":\"jejejeputa\",\n",
    "            \"twitter\":\"jajajaputa\",\n",
    "            }\n",
    "import sys,pyperclip\n",
    "if len(sys.argv)<2:\n",
    "    print(\"Usage:python pw.py[account]-copy account password\")\n",
    "    sys.exit()\n",
    "\n",
    "#first command line arg is the account name   \n",
    "account = sys.argv[2]\n",
    "\n",
    "if account in PASSWORDS:\n",
    "    pyperclip.copy(PASSWORDS[account])\n",
    "    print(\"password for\" + account + \"copied to clipboard.\")\n",
    "    \n",
    "else:\n",
    "    print(\"There is no account named\" + account)\n",
    "    \n"
   ]
  },
  {
   "cell_type": "code",
   "execution_count": null,
   "metadata": {},
   "outputs": [],
   "source": []
  }
 ],
 "metadata": {
  "kernelspec": {
   "display_name": "Python 3",
   "language": "python",
   "name": "python3"
  },
  "language_info": {
   "codemirror_mode": {
    "name": "ipython",
    "version": 3
   },
   "file_extension": ".py",
   "mimetype": "text/x-python",
   "name": "python",
   "nbconvert_exporter": "python",
   "pygments_lexer": "ipython3",
   "version": "3.7.6"
  }
 },
 "nbformat": 4,
 "nbformat_minor": 4
}
