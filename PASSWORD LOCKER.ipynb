{
 "cells": [
  {
   "cell_type": "code",
   "execution_count": 4,
   "metadata": {},
   "outputs": [
    {
     "ename": "NameError",
     "evalue": "name 'account' is not defined",
     "output_type": "error",
     "traceback": [
      "\u001b[1;31m---------------------------------------------------------------------------\u001b[0m",
      "\u001b[1;31mNameError\u001b[0m                                 Traceback (most recent call last)",
      "\u001b[1;32m<ipython-input-4-2f8e9323e13b>\u001b[0m in \u001b[0;36m<module>\u001b[1;34m\u001b[0m\n\u001b[0;32m     14\u001b[0m \u001b[0mAccount\u001b[0m \u001b[1;33m=\u001b[0m \u001b[0msys\u001b[0m\u001b[1;33m.\u001b[0m\u001b[0margv\u001b[0m\u001b[1;33m[\u001b[0m\u001b[1;36m2\u001b[0m\u001b[1;33m]\u001b[0m\u001b[1;33m\u001b[0m\u001b[1;33m\u001b[0m\u001b[0m\n\u001b[0;32m     15\u001b[0m \u001b[1;33m\u001b[0m\u001b[0m\n\u001b[1;32m---> 16\u001b[1;33m \u001b[1;32mif\u001b[0m \u001b[0maccount\u001b[0m \u001b[1;32min\u001b[0m \u001b[0mPASSWORDS\u001b[0m\u001b[1;33m:\u001b[0m\u001b[1;33m\u001b[0m\u001b[1;33m\u001b[0m\u001b[0m\n\u001b[0m\u001b[0;32m     17\u001b[0m     \u001b[0mpyperclip\u001b[0m\u001b[1;33m.\u001b[0m\u001b[0mcopy\u001b[0m\u001b[1;33m(\u001b[0m\u001b[0mPASSWORDS\u001b[0m\u001b[1;33m[\u001b[0m\u001b[0maccount\u001b[0m\u001b[1;33m]\u001b[0m\u001b[1;33m)\u001b[0m\u001b[1;33m\u001b[0m\u001b[1;33m\u001b[0m\u001b[0m\n\u001b[0;32m     18\u001b[0m     \u001b[0mprint\u001b[0m\u001b[1;33m(\u001b[0m\u001b[1;34m\"password for\"\u001b[0m \u001b[1;33m+\u001b[0m \u001b[0maccount\u001b[0m \u001b[1;33m+\u001b[0m \u001b[1;34m\"copied to clipboard.\"\u001b[0m\u001b[1;33m)\u001b[0m\u001b[1;33m\u001b[0m\u001b[1;33m\u001b[0m\u001b[0m\n",
      "\u001b[1;31mNameError\u001b[0m: name 'account' is not defined"
     ]
    }
   ],
   "source": [
    "#!python3\n",
    "#pw.py-An insecure password locker program\n",
    "\n",
    "PASWWORDS = {\"instagram\":\"jojojoputa\",\n",
    "            \"email\":\"jejejeputa\",\n",
    "            \"twitter\":\"jajajaputa\",\n",
    "            }\n",
    "import sys,pyperclip\n",
    "if len(sys.argv)<2:\n",
    "    print(\"Usage:python pw.py[account]-copy account password\")\n",
    "    sys.exit()\n",
    "\n",
    "#first command line arg is the account name   \n",
    "Account = sys.argv[2]\n",
    "\n",
    "if account in PASSWORDS:\n",
    "    pyperclip.copy(PASSWORDS[account])\n",
    "    print(\"password for\" + account + \"copied to clipboard.\")\n",
    "    \n",
    "else:\n",
    "    print(\"There is no account named\" + account)\n",
    "    \n"
   ]
  },
  {
   "cell_type": "code",
   "execution_count": null,
   "metadata": {},
   "outputs": [],
   "source": []
  }
 ],
 "metadata": {
  "kernelspec": {
   "display_name": "Python 3",
   "language": "python",
   "name": "python3"
  },
  "language_info": {
   "codemirror_mode": {
    "name": "ipython",
    "version": 3
   },
   "file_extension": ".py",
   "mimetype": "text/x-python",
   "name": "python",
   "nbconvert_exporter": "python",
   "pygments_lexer": "ipython3",
   "version": "3.7.6"
  }
 },
 "nbformat": 4,
 "nbformat_minor": 4
}
